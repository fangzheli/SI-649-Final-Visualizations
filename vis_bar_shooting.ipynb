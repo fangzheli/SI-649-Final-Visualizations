{
 "cells": [
  {
   "cell_type": "code",
   "execution_count": 12,
   "metadata": {},
   "outputs": [],
   "source": [
    "import pandas as pd\n",
    "\n",
    "df_incident = pd.read_excel(\"CHDS_raw_Data.xlsx\", sheet_name=\"INCIDENT\")\n",
    "df_victim = pd.read_excel(\"CHDS_raw_Data.xlsx\", sheet_name=\"VICTIM\")\n",
    "df_victim.rename(columns={\"incidentid\": \"Incident_ID\"}, inplace=True)\n",
    "\n",
    "# merge the two dataframes based on Incident_ID\n",
    "merged_df = pd.merge(df_incident, df_victim, on=\"Incident_ID\")\n",
    "\n",
    "# filter the merged dataframe to only include Fatal injuries\n",
    "fatal_df = merged_df[merged_df[\"injury\"] == \"Fatal\"]\n",
    "\n",
    "# group the filtered dataframe by Incident_ID and count the number of rows\n",
    "fatal_count_df = fatal_df.groupby(\"Incident_ID\").size().reset_index(name=\"Number Killed\")\n",
    "\n",
    "# merge the fatal count dataframe with the original dataframe\n",
    "result_df = pd.merge(df_incident, fatal_count_df, on=\"Incident_ID\")\n",
    "\n",
    "# print the result dataframe\n",
    "df = result_df[[\"Incident_ID\", \"Date\", \"School\", \"Number Killed\", \"City\", \"State\"]]\n"
   ]
  },
  {
   "cell_type": "code",
   "execution_count": 13,
   "metadata": {},
   "outputs": [
    {
     "name": "stderr",
     "output_type": "stream",
     "text": [
      "/var/folders/9m/yhr_gxtd03q9rz3gdlc3ctqw0000gn/T/ipykernel_29361/4074538039.py:8: SettingWithCopyWarning:\n",
      "\n",
      "\n",
      "A value is trying to be set on a copy of a slice from a DataFrame.\n",
      "Try using .loc[row_indexer,col_indexer] = value instead\n",
      "\n",
      "See the caveats in the documentation: https://pandas.pydata.org/pandas-docs/stable/user_guide/indexing.html#returning-a-view-versus-a-copy\n",
      "\n"
     ]
    },
    {
     "data": {
      "application/vnd.plotly.v1+json": {
       "config": {
        "plotlyServerURL": "https://plot.ly"
       },
       "data": [
        {
         "customdata": [
          [
           "Walnut Park Elementary School",
           "Gadsden",
           "AL"
          ],
          [
           "Sullivan High School",
           "Chicago",
           "IL"
          ],
          [
           "New Britain High School",
           "New Britain",
           "CT"
          ],
          [
           "Terry Parker High School",
           "Jacksonville",
           "FL"
          ],
          [
           "Bay Springs High School",
           "Bay Springs",
           "MS"
          ],
          [
           "Ridgely Elementary School",
           "Springfield",
           "IL"
          ],
          [
           "Wauwatosa West High School",
           "Wauwatosa",
           "WI"
          ],
          [
           "New Britain High School",
           "New Britain",
           "CT"
          ],
          [
           "Beach High School",
           "Savannah",
           "GA"
          ],
          [
           "Chatsworth High School",
           "San Fernando Valley",
           "CA"
          ],
          [
           "Chelsea High School",
           "Chelsea",
           "MI"
          ],
          [
           "Los Altos High School",
           "Hacienda Heights",
           "CA"
          ],
          [
           "Eau Claire High School",
           "Columbia",
           "SC"
          ],
          [
           "Washington Elementary School",
           "San Jose",
           "CA"
          ],
          [
           "Whitman Middle School",
           "Seattle",
           "WA"
          ],
          [
           "Osborn High School",
           "Detroit",
           "MI"
          ],
          [
           "Eastern High School",
           "Washington",
           "DC"
          ],
          [
           "Goose Creek High School",
           "Charleston",
           "SC"
          ],
          [
           "Ballard High School",
           "Seattle",
           "WA"
          ],
          [
           "Margaret Leary Elementary School",
           "Butte",
           "MT"
          ],
          [
           "Eliot Junior High School",
           "Washington",
           "DC"
          ],
          [
           "J T Moore Middle School",
           "Nashville",
           "TN"
          ],
          [
           "North Miami High School",
           "North Miami",
           "FL"
          ],
          [
           "Manchester Elementary School",
           "Manchester",
           "PA"
          ],
          [
           "Ottumwa High School",
           "Ottumwa",
           "IA"
          ],
          [
           "Hollywood High School",
           "Los Angeles",
           "CA"
          ],
          [
           "Thomas Jefferson Elementary School",
           "San Leandro",
           "CA"
          ],
          [
           "Wickliffe Middle School",
           "Wickliffe",
           "OH"
          ],
          [
           "Coleman Junior High School",
           "Greenville",
           "MS"
          ],
          [
           "Cardozo Senior High School",
           "Washington",
           "DC"
          ],
          [
           "Downers South High School",
           "Downers Grove",
           "IL"
          ],
          [
           "Roosevelt High School",
           "Dallas",
           "TX"
          ],
          [
           "O Perry Walker High School",
           "Algiers",
           "LA"
          ],
          [
           "Lincoln High School",
           "Dallas",
           "TX"
          ],
          [
           "Archbishop Carroll High School",
           "Washington",
           "DC"
          ],
          [
           "Paramount High School",
           "Los Angeles",
           "CA"
          ],
          [
           "Hollibrook Elementary School",
           "Houston",
           "TX"
          ],
          [
           "Desert View High School",
           "Tucson",
           "AZ"
          ],
          [
           "Langham Creek High School",
           "Cypress",
           "TX"
          ],
          [
           "Fairfield High School",
           "Birmingham",
           "AL"
          ],
          [
           "Tilden High School",
           "Chicago",
           "IL"
          ],
          [
           "Woodson High School",
           "Chicago",
           "IL"
          ],
          [
           "Norland Senior High School",
           "Miami",
           "FL"
          ],
          [
           "Fairfax High School",
           "Los Angeles",
           "CA"
          ],
          [
           "Amityville High School",
           "Amityville",
           "NY"
          ],
          [
           "Clayton High School",
           "Atlanta",
           "GA"
          ],
          [
           "Washington-Dix Street Academy (High School)",
           "Washington",
           "DC"
          ],
          [
           "Reseda High School",
           "Los Angeles",
           "CA"
          ],
          [
           "Dozier Middle School",
           "Denbigh",
           "VA"
          ],
          [
           "Harlem High School",
           "Harlem",
           "GA"
          ],
          [
           "Sumner High School",
           "St. Louis",
           "MO"
          ],
          [
           "Grant High School",
           "Sacramento",
           "CA"
          ],
          [
           "Ford Middle School",
           "Acushnet",
           "MA"
          ],
          [
           "Grant High School",
           "Sacramento",
           "CA"
          ],
          [
           "Nimitz High School",
           "Irving",
           "TX"
          ],
          [
           "Upper Perkiomen High School",
           "Pennsburg",
           "PA"
          ],
          [
           "Francis T. Nicholls High School",
           "New Orleans",
           "LA"
          ],
          [
           "Dorsey High School",
           "Los Angeles",
           "CA"
          ],
          [
           "Harper High School",
           "Atlanta",
           "GA"
          ],
          [
           "Roosevelt High School",
           "Chicago",
           "IL"
          ],
          [
           "Booker T. Washington High School",
           "Norfolk",
           "VA"
          ],
          [
           "Sacred Heart Middle School",
           "Redlands",
           "CA"
          ],
          [
           "Memorial Middle School",
           "Laredo",
           "TX"
          ],
          [
           "Public School 18",
           "Buffalo",
           "NY"
          ],
          [
           "Lincoln County High School",
           "Fayetteville",
           "TN"
          ],
          [
           "Stranahan High School",
           "Ft. Lauderdale",
           "FL"
          ],
          [
           "Martin Luther King High School",
           "Philadelphia",
           "PA"
          ],
          [
           "Ombudsman Educational Service Center",
           "Elgin",
           "IL"
          ],
          [
           "Martin Luther King Jr. Middle School",
           "Atlanta",
           "GA"
          ],
          [
           "Martin Luther King High School",
           "Philadelphia",
           "PA"
          ],
          [
           "Guyan Valley High School",
           "Branchland",
           "WV"
          ],
          [
           "Deming Middle School",
           "Deming",
           "NM"
          ],
          [
           "Ridgewood High School",
           "New Port Richey",
           "FL"
          ],
          [
           "Buell Elementary School",
           "Flint",
           "MI"
          ],
          [
           "Carmichael Elementary School",
           "Sierra Vista",
           "AZ"
          ],
          [
           "Lake Worth Middle School",
           "Lake Worth",
           "FL"
          ],
          [
           "Timken Senior High School",
           "Canton",
           "OH"
          ],
          [
           "Bidwell Porter Elementary School",
           "Bidwell",
           "OH"
          ],
          [
           "Pine Bluff Coleman High School",
           "Pine Bluff",
           "AR"
          ],
          [
           "Richmond High School",
           "Richmond",
           "CA"
          ],
          [
           "Norland Elementary School",
           "Miami",
           "FL"
          ],
          [
           "Lake Clifton Eastern High School",
           "Baltimore",
           "MD"
          ],
          [
           "Lew Wallace High School",
           "Gary",
           "IN"
          ],
          [
           "John Marshall High School",
           "Cleveland",
           "OH"
          ],
          [
           "Ousley Junior High School",
           "Arlington",
           "TX"
          ],
          [
           "Latonia Elementary School",
           "Covington",
           "KY"
          ],
          [
           "Leith Walk Elementary School",
           "Baltimore",
           "MD"
          ],
          [
           "Abramson High School",
           "New Orleans",
           "LA"
          ],
          [
           "St. James Catholic School",
           "Liberty",
           "MO"
          ],
          [
           "Englewood High School",
           "Chicago",
           "IL"
          ],
          [
           "Philadelphia Elementary School",
           "Pomona",
           "CA"
          ],
          [
           "Jordan High School",
           "Long Beach",
           "CA"
          ],
          [
           "Parker Middle School",
           "Edinboro",
           "PA"
          ],
          [
           "Hoboken High School",
           "Hoboken",
           "NJ"
          ],
          [
           "Cypress Junior High School",
           "Memphis",
           "TN"
          ],
          [
           "Tavares Middle School",
           "Tavares",
           "FL"
          ],
          [
           "Blackville-Hilda High School",
           "Blackville",
           "SC"
          ],
          [
           "Thomas A. Edison Vocational and Technical High School",
           "New York",
           "NY"
          ],
          [
           "Winston Education Center",
           "Washington",
           "DC"
          ],
          [
           "East High School",
           "Memphis",
           "TN"
          ],
          [
           "Jenkins High School",
           "Savannah",
           "GA"
          ],
          [
           "Talladega High School",
           "Talladega",
           "AL"
          ],
          [
           "McKinley High School",
           "Washington",
           "DC"
          ],
          [
           "Colton High School",
           "Colton",
           "CA"
          ],
          [
           "Dekalb Alternative School",
           "Decatur",
           "GA"
          ],
          [
           "St. Bernard High School",
           "Playa Del Rey",
           "CA"
          ],
          [
           "Jacksonville High School bus",
           "Sherwood",
           "AR"
          ],
          [
           "Sumner High School",
           "St. Louis",
           "MO"
          ],
          [
           "Highlands High School",
           "Sacramento",
           "CA"
          ],
          [
           "Crown Heights High School",
           "New York",
           "NY"
          ],
          [
           "Conniston Middle School",
           "West Palm Beach",
           "FL"
          ],
          [
           "Pershing High School",
           "Detroit",
           "MI"
          ],
          [
           "Maria Del Rey Junior High School",
           "Mar Vista",
           "CA"
          ],
          [
           "John Marshall High School",
           "Los Angeles",
           "CA"
          ],
          [
           "City-as-School High School",
           "New York",
           "NY"
          ],
          [
           "Jefferson Davis High School",
           "Montgomery",
           "AL"
          ],
          [
           "Wallace High School",
           "Gary",
           "IN"
          ],
          [
           "McClymonds High School",
           "Oakland",
           "CA"
          ],
          [
           "John Glenn High School",
           "Norwalk",
           "CA"
          ],
          [
           "Ribault High School",
           "Jacksonville",
           "FL"
          ],
          [
           "Creekside Elementary School",
           "Sacramento",
           "CA"
          ],
          [
           "Marshall High School",
           "Fairfax",
           "VA"
          ],
          [
           "Douglass High School",
           "Oklahoma City",
           "OK"
          ],
          [
           "Thomas Jefferson High School",
           "Brooklyn",
           "NY"
          ],
          [
           "Ysleta High School",
           "El Paso",
           "TX"
          ],
          [
           "Pitcher School",
           "Detroit",
           "MI"
          ],
          [
           "Grant High School",
           "Oklahoma City",
           "OK"
          ],
          [
           "Hermosa Elementary School",
           "Artesia",
           "NM"
          ],
          [
           "Columbus Central High School",
           "Columbus",
           "OH"
          ],
          [
           "O D Wyatt High School",
           "Fort Worth",
           "TX"
          ],
          [
           "Burt Elementary School",
           "Detroit",
           "MI"
          ],
          [
           "Fenger High School",
           "Chicago",
           "IL"
          ],
          [
           "Whitharral High School",
           "Whitharral",
           "TX"
          ],
          [
           "Pioneer Christian Academy",
           "Nashville",
           "TN"
          ],
          [
           "West Orange High School",
           "Winter Garden",
           "FL"
          ],
          [
           "Hayes Junior High School",
           "St. Albans",
           "WV"
          ],
          [
           "Everett High School",
           "Lansing",
           "MI"
          ],
          [
           "Paul Dunbar Elementary School",
           "Dallas",
           "TX"
          ],
          [
           "Murchison Junior High School",
           "Austin",
           "TX"
          ],
          [
           "Dover Air High",
           "Dover",
           "DE"
          ],
          [
           "Wilbur Cross High School",
           "New Haven",
           "CT"
          ],
          [
           "Azle Junior High School",
           "Azle",
           "TX"
          ],
          [
           "New Carlisle Elementary School",
           "New Carlisle",
           "OH"
          ],
          [
           "Stamps High School",
           "Stamps",
           "AR"
          ],
          [
           "Hughes School",
           "McComb",
           "MS"
          ],
          [
           "J Leslie Patton School",
           "Dallas",
           "TX"
          ],
          [
           "Springarn High School",
           "Washington",
           "DC"
          ],
          [
           "John S. Shaw High School",
           "Mobile",
           "AL"
          ],
          [
           "Manuel Arts High School",
           "Los Angeles",
           "CA"
          ],
          [
           "Dillard High School",
           "Fort Lauderdale",
           "FL"
          ],
          [
           "Aberdeen High School",
           "Aberdeen",
           "MD"
          ],
          [
           "George W. Wingate High School",
           "Brooklyn",
           "NY"
          ],
          [
           "Sumner High School",
           "St. Louis",
           "MO"
          ],
          [
           "James Madison High School",
           "Brooklyn",
           "NY"
          ],
          [
           "St. James School",
           "Penns Grove",
           "NJ"
          ],
          [
           "Booker Junior High School",
           "Little Rock",
           "AR"
          ],
          [
           "Pierre S. Dupont High School",
           "Wilmington",
           "DE"
          ],
          [
           "Allapatah Elementary School",
           "Miami",
           "FL"
          ],
          [
           "Hamilton High School",
           "Nashville",
           "TN"
          ],
          [
           "Meridian High School",
           "Meridian ",
           "ID"
          ],
          [
           "Booker T. Washington High School",
           "Memphis",
           "TN"
          ],
          [
           "Xavier High School",
           "Appleton",
           "WI"
          ],
          [
           "Morris E. Leeds Middle School",
           "Philadelphia",
           "PA"
          ],
          [
           "Franklin D. Roosevelt Junior High School",
           "Cleveland",
           "OH"
          ],
          [
           "Dunbar High School",
           "Lubbock",
           "TX"
          ],
          [
           "McKinley Vocational High School",
           "Buffalo",
           "NY"
          ],
          [
           "Peabody Junior High School",
           "Petersburg",
           "VA"
          ],
          [
           "Grove Elementary School",
           "Tulsa",
           "OK"
          ],
          [
           "Edmondson Senior High School",
           "Baltimore",
           "MD"
          ],
          [
           "Parkview Elementary School",
           "Washington",
           "DC"
          ],
          [
           "Camlumet High School",
           "Chicago",
           "IL"
          ],
          [
           "Libby Booth Elementary School",
           "Reno",
           "NV"
          ],
          [
           "Decatur Central High School",
           "Indianapolis",
           "IN"
          ],
          [
           "Armstrong High School",
           "Richmond",
           "VA"
          ],
          [
           "Elmhurst Wood Park Community High School",
           "Almwood Park",
           "IL"
          ],
          [
           "Beaumont High School",
           "St. Louis",
           "MO"
          ],
          [
           "Woodell Phillips High School",
           "Chicago",
           "IL"
          ],
          [
           "Long Beach Polytechnic High School",
           "Los Angeles",
           "CA"
          ],
          [
           "Barton Elementary School",
           "Chicago",
           "IL"
          ],
          [
           "Locke High School",
           "Los Angeles",
           "CA"
          ],
          [
           "Brownstown Central High School",
           "Brownstown",
           "IN"
          ],
          [
           "Church Hill High School",
           "Rogersville",
           "TN"
          ],
          [
           "Destrehan High School",
           "Hahnville",
           "LA"
          ],
          [
           "Manual Arts High School",
           "Los Angeles",
           "CA"
          ],
          [
           "Hamilton High School",
           "Memphis",
           "TN"
          ],
          [
           "John McDonough Senior High",
           "New Orleans",
           "LA"
          ],
          [
           "Valley High School",
           "Las Vegas",
           "NV"
          ],
          [
           "Simsboro High School",
           "Ruston",
           "LA"
          ],
          [
           "Reagan High School",
           "Austin",
           "TX"
          ],
          [
           "Pinellas Park High School",
           "Largo",
           "FL"
          ],
          [
           "Hubbard Woods Elementary School",
           "Winnetka",
           "IL"
          ],
          [
           "West Franklin Elementary School",
           "Anderson",
           "SC"
          ],
          [
           "Atlantic Shores Christian School",
           "Virginia Beach",
           "VA"
          ],
          [
           "Henderson Junior High School",
           "Little Rock",
           "AR"
          ],
          [
           "Wirt High School",
           "Gary",
           "IN"
          ],
          [
           "Dysart High School",
           "El Mirage",
           "AZ"
          ],
          [
           "Alfred E. Smith High School",
           "New York",
           "NY"
          ],
          [
           "Channel Islands High School",
           "Oxnard",
           "CA"
          ],
          [
           "Taft High School",
           "Cincinnati",
           "OH"
          ],
          [
           "Mount Pleasant High School",
           "East San Jose",
           "CA"
          ],
          [
           "Hickman County High School",
           "Centerville",
           "TN"
          ],
          [
           "Myers Park High School",
           "Charlotte",
           "NC"
          ],
          [
           "Eldorado High School",
           "Las Vegas",
           "NV"
          ],
          [
           "Booker T. Washington High School",
           "New Orleans",
           "LA"
          ],
          [
           "Garinger High School",
           "Charlotte",
           "NC"
          ],
          [
           "Ralph J. Bunche Middle School",
           "Compton",
           "CA"
          ],
          [
           "Franklin Alternative Middle School",
           "Columbus",
           "OH"
          ],
          [
           "Robert A. Millikan Junior High School",
           "Sherman Oaks",
           "CA"
          ],
          [
           "School of Choice",
           "Pahokee",
           "FL"
          ],
          [
           "Madison High School",
           "Houston",
           "TX"
          ],
          [
           "Crosby High School",
           "Crosby",
           "TX"
          ],
          [
           "James Monroe High School",
           "Bronx",
           "NY"
          ],
          [
           "Oak Cliff High School",
           "Dallas",
           "TX"
          ],
          [
           "Walter L. Cohen Senior High School",
           "New Orleans",
           "LA"
          ],
          [
           "Perales Elementary School",
           "San Antonio",
           "TX"
          ],
          [
           "DuSable High School",
           "Chicago",
           "IL"
          ],
          [
           "Grant High School",
           "Portland",
           "OR"
          ],
          [
           "Murray-Wright High School",
           "Detroit",
           "MI"
          ],
          [
           "Deer Creek Junior High School",
           "Littleton",
           "CO"
          ],
          [
           "Wingfield High School",
           "Jackson",
           "MS"
          ],
          [
           "John H. Reagan High School",
           "Houston",
           "TX"
          ],
          [
           "Parkway South Middle School",
           "Baldwin",
           "MO"
          ],
          [
           "West Ward School",
           "Coleman",
           "TX"
          ],
          [
           "Lake Highland High School",
           "Dallas",
           "TX"
          ],
          [
           "Henry Ford High School",
           "Detroit",
           "MI"
          ],
          [
           "Carver Vocational-Technical Senior High",
           "Baltimore",
           "MD"
          ],
          [
           "Highland Park High School",
           "Highland Park",
           "MI"
          ],
          [
           "James G. Blaine Elementary School",
           "Chicago",
           "IL"
          ],
          [
           "Harlem Park Junior High School",
           "Baltimore",
           "MD"
          ],
          [
           "Precious Blood School",
           "Detroit",
           "MI"
          ],
          [
           "Southeast Polk High School",
           "Pleasant Hill",
           "IA"
          ],
          [
           "Rolling Hills Middle School",
           "Watsonville",
           "CA"
          ],
          [
           "West Elementary School Bus",
           "Celina",
           "OH"
          ],
          [
           "Goddard Junior High School",
           "Goddard",
           "KS"
          ],
          [
           "Lake Clifton High School",
           "Baltimore",
           "MD"
          ],
          [
           "Portland Junior High School",
           "Portland",
           "CT"
          ],
          [
           "Northern High School",
           "Durham",
           "NC"
          ],
          [
           "Vanguard Junior High School",
           "Los Angeles",
           "CA"
          ],
          [
           "Lake Clifton High School",
           "Baltimore",
           "MD"
          ],
          [
           "Senath-Hornersville High School",
           "Senath",
           "MO"
          ],
          [
           "Fairfax High School",
           "Los Angeles",
           "CA"
          ],
          [
           "Benicia High School ",
           "Benicia",
           "CA"
          ],
          [
           "South Oak Cliff High School",
           "Dallas",
           "TX"
          ],
          [
           "Fergus High School",
           "Lewistown",
           "MT"
          ],
          [
           "Orme School",
           "Mayer",
           "AZ"
          ],
          [
           "Dekalb High School",
           "De Kalb",
           "MO"
          ],
          [
           "East Ascension High School",
           "Gonzales",
           "LA"
          ],
          [
           "John McDonogh High School",
           "New Orleans",
           "LA"
          ],
          [
           "Longfellow Elementary School",
           "Rock Island",
           "IL"
          ],
          [
           "Vicksburg High School",
           "Vicksburg",
           "MS"
          ],
          [
           "Robert L. Thornton Elementary School",
           "Dallas",
           "TX"
          ],
          [
           "Esteban Torres High School",
           "Los Angeles",
           "CA"
          ],
          [
           "Pleasantville High School",
           "Pleasantville",
           "NJ"
          ],
          [
           "Mountain Brook High School",
           "Mountain Brook",
           "AL"
          ],
          [
           "Lely High School",
           "Naples",
           "FL"
          ],
          [
           "Mason-Clark Middle School",
           "St. Louis",
           "MO"
          ],
          [
           "Ellis Davis Field House",
           "Dallas",
           "TX"
          ],
          [
           "Bellaire High School",
           "Houston",
           "TX"
          ],
          [
           "Deer Valley High School",
           "Antioch",
           "CA"
          ],
          [
           "Dunbar High School",
           "Washington",
           "DC"
          ],
          [
           "Atascocita High School",
           "Humble",
           "TX"
          ],
          [
           "Miles Elementary School",
           "Cleveland",
           "OH"
          ],
          [
           "Touissant Louverture Elementary School",
           "Miami",
           "FL"
          ],
          [
           "Joyce Kilmer School 69",
           "Indianapolis",
           "IN"
          ],
          [
           "Lake Hills Elementary School",
           "Michigan City",
           "IN"
          ],
          [
           "Brookdale Elementary School",
           "Orangeburg",
           "SC"
          ],
          [
           "Kelly Elementary School",
           "Pittsburg",
           "PA"
          ],
          [
           "L.O. Donald Leadership Academy",
           "Dallas",
           "TX"
          ],
          [
           "Dougherty Comprehensive High School",
           "Albany",
           "GA"
          ],
          [
           "Sonora High School",
           "Sonora",
           "CA"
          ],
          [
           "KIPP Delta Elementary School",
           "West Helena",
           "AR"
          ],
          [
           "Rhode Island School for the Deaf ",
           "Providence",
           "RI"
          ],
          [
           "Jack Robey Junior High School",
           "Pine Bluff",
           "AR"
          ],
          [
           "Riverdale High School",
           "Riverdale",
           "GA"
          ],
          [
           "Collins Elementary School",
           "Houston",
           "TX"
          ],
          [
           "Nativity School of Harrisburg",
           "Harrisburg",
           "PA"
          ],
          [
           "East Chicago Academy of Visual and Performing Arts",
           "Chicago",
           "IL"
          ],
          [
           "Phoebus High School",
           "Hampton",
           "VA"
          ],
          [
           "McKee Middle School",
           "Jeannette",
           "PA"
          ],
          [
           "Northwood Elementary School",
           "Baltimore",
           "MD"
          ],
          [
           "William C. Longstreth Elementary School",
           "Philadelphia",
           "PA"
          ],
          [
           "Great Mills High School",
           "Great Mills",
           "MD"
          ],
          [
           "Mount Zion High School",
           "Atlanta",
           "GA"
          ],
          [
           "Grant High School",
           "Portland",
           "OR"
          ],
          [
           "Raineshaven Elementary School",
           "Memphis",
           "TN"
          ],
          [
           "Sunrise Point Elementary School",
           "Overland",
           "KS"
          ],
          [
           "Milkovich Middle School",
           "Maple Heights",
           "OH"
          ],
          [
           "Red Lion Area Junior High School",
           "Red Lion",
           "PA"
          ],
          [
           "Edgewood High School",
           "Edgewood",
           "MD"
          ],
          [
           "Lakeside Middle School",
           "Millville",
           "NJ"
          ],
          [
           "Raines High School",
           "Jacksonville",
           "FL"
          ],
          [
           "Towne Point Elementary School",
           "Dover",
           "DE"
          ],
          [
           "Luisa Pineiro Fuentes School of Science and Discovery",
           "New York",
           "NY"
          ],
          [
           "Providence Career and Technical Academy",
           "Providence",
           "RI"
          ],
          [
           "Dubois Elementary School",
           "Chicago",
           "IL"
          ],
          [
           "Canyon Springs High School",
           "Las Vegas",
           "NV"
          ],
          [
           "McGavock High School",
           "Nashville",
           "TN"
          ],
          [
           "Shiloh Middle School",
           "Snellville",
           "GA"
          ],
          [
           "Butler High School",
           "Matthews",
           "NC"
          ],
          [
           "Crums Lane Elementary School",
           "Louisville",
           "KY"
          ],
          [
           "Skyline High School",
           "Dallas",
           "TX"
          ],
          [
           "Central Elementary School",
           "Belmont",
           "CA"
          ],
          [
           "Cascade Middle School",
           "Eugene",
           "OR"
          ],
          [
           "Central Academy of Excellence",
           "Kansas City",
           "MO"
          ],
          [
           "Eaglecrest High School",
           "Aurora",
           "CO"
          ],
          [
           "STEM School Highlands Ranch",
           "Highlands Ranch",
           "CO"
          ],
          [
           "Shady Lane Elementary School",
           "Columbus",
           "OH"
          ],
          [
           "Bulkeley High School",
           "Hartford",
           "CT"
          ],
          [
           "Roosevelt High School",
           "St. Louis",
           "MO"
          ],
          [
           "Central High School",
           "Philadelphia",
           "PA"
          ],
          [
           "Highland Elementary School",
           "Wheaton",
           "MD"
          ],
          [
           "School Number 15",
           "Paterson",
           "NJ"
          ],
          [
           "Forest Oak Middle School",
           "Fort Worth",
           "TX"
          ],
          [
           "Menchville High School",
           "Newport News",
           "VA"
          ],
          [
           "Pittsburgh Oliver Citywide Academy",
           "Pittsburgh",
           "PA"
          ],
          [
           "Bartram High School",
           "Philadelphia",
           "PA"
          ],
          [
           "Beloit Memorial High School",
           "Beloit",
           "WI"
          ],
          [
           "South Education Center",
           "Richfield",
           "MN"
          ],
          [
           "Camelot Elementary School",
           "Chesapeake",
           "VA"
          ],
          [
           "McColm High School",
           "McColm",
           "MS"
          ],
          [
           "John Carroll Elementary School",
           "Hyattsville",
           "MD"
          ],
          [
           "Liberty Point International Middle School",
           "Pueblo",
           "CO"
          ],
          [
           "Alief ISD Center for Advanced Careers",
           "Houston",
           "TX"
          ],
          [
           "West Mesa High School",
           "Albuquerque",
           "NM"
          ],
          [
           "Dunbar High School",
           "Washington",
           "DC"
          ],
          [
           "East High School",
           "Des Moines",
           "IA"
          ],
          [
           "School No. 17",
           "Rochester",
           "NY"
          ],
          [
           "Cora L. Rice Elementary School",
           "Landover",
           "MD"
          ],
          [
           "Tanglewood Middle School",
           "Greenville",
           "SC"
          ],
          [
           "Lynn English High School",
           "Lynn",
           "MA"
          ],
          [
           "Mott-Regent High School",
           "Mott",
           "ND"
          ],
          [
           "Hazelwood Central High School",
           "Florissant",
           "MO"
          ],
          [
           "Southwest High School",
           "Macon",
           "GA"
          ],
          [
           "Hamilton Stem Academy",
           "Columbus",
           "OH"
          ],
          [
           "Eden Ii Institute",
           "Staten Island",
           "NY"
          ],
          [
           "Hot Springs High School",
           "Hot Springs",
           "AR"
          ],
          [
           "Alexander W. Dreyfoos School of the Arts",
           "West Palm Beach",
           "FL"
          ],
          [
           "Riverdale High School",
           "Murfreesboro",
           "TN"
          ],
          [
           "East Lake Elementary School",
           "Chattanooga",
           "TN"
          ],
          [
           "Mevers School of Excellence",
           "Goose Creek",
           "SC"
          ],
          [
           "Morris Jeff High School",
           "New Orleans",
           "LA"
          ],
          [
           "Eisenhower High School",
           "Yakima",
           "WA"
          ],
          [
           "Huffman High School",
           "Birmingham",
           "AL"
          ],
          [
           "Haines Elementary School",
           "Chicago",
           "IL"
          ],
          [
           "Humboldt High School",
           "Humboldt",
           "TN"
          ],
          [
           "Lincoln Middle School",
           "Rockford",
           "IL"
          ],
          [
           "George Washington Carver High School",
           "New Orleans",
           "LA"
          ],
          [
           "Watson Chapel Junior High",
           "Pine Bluff",
           "AR"
          ],
          [
           "Merrillville High School",
           "Merrillville",
           "IN"
          ],
          [
           "Four Corners Elementary School",
           "Salem",
           "OR"
          ],
          [
           "Peabody Elementary School",
           "Cambridge",
           "MA"
          ],
          [
           "Bishop Noll Institute",
           "Hammond",
           "IN"
          ],
          [
           "Westwood Elementary School",
           "Dayton",
           "OH"
          ],
          [
           "Harker Heights High School",
           "Harker Heights",
           "TX"
          ],
          [
           "Smyrna Middle School",
           "Smyrna",
           "DE"
          ],
          [
           "Urban Dove Charter School",
           "Brooklyn",
           "NY"
          ],
          [
           "San Mateo High School",
           "San Mateo",
           "CA"
          ],
          [
           "Eastern Hills High School",
           "Fort Worth",
           "TX"
          ],
          [
           "Wilmington Park Elementary School",
           "Wilmington",
           "CA"
          ],
          [
           "Hazel Grove Elementary",
           "Kansas City",
           "KS"
          ],
          [
           "William Dick School",
           "Philadelphia",
           "PA"
          ],
          [
           "Dr. Louis A. Cerulli School No. 34",
           "Rochester",
           "NY"
          ],
          [
           "Tyee High School",
           "SeaTac",
           "WA"
          ],
          [
           "Gilbert Heights Elementary School",
           "Portland",
           "OR"
          ],
          [
           "Washington Middle School",
           "Albuquerque",
           "NM"
          ],
          [
           "Yeshiva Toras Chaim High School",
           "Denver",
           "CO"
          ],
          [
           "Academy Park High School",
           "Sharon Hill",
           "PA"
          ],
          [
           "West Side High School",
           "Newark",
           "NJ"
          ],
          [
           "Frazier International Magnet School",
           "Chicago",
           "IL"
          ],
          [
           "Mt. Tabor High School",
           "Winston-Salem",
           "NC"
          ],
          [
           "Walkins Elementary School",
           "Washington",
           "DC"
          ],
          [
           "Reiche Community School",
           "Portland",
           "ME"
          ],
          [
           "Gilmor Elementary School",
           "Baltimore",
           "MD"
          ],
          [
           "McCluer North High School",
           "Florissant",
           "MO"
          ],
          [
           "Lincoln High School",
           "Philadelphia",
           "PA"
          ],
          [
           "West Valley Middle School",
           "Yakima",
           "WA"
          ],
          [
           "Aplington-Parkersburg High School",
           "Parkersburg",
           "IA"
          ],
          [
           "Lionel Wilson College Prep School",
           "Oakland",
           "CA"
          ],
          [
           "Sammye E. Coan Middle School",
           "Atlanta",
           "GA"
          ],
          [
           "Jones Senior High School",
           "Trenton",
           "NC"
          ],
          [
           "Henry Foss High School",
           "Tacoma",
           "WA"
          ],
          [
           "Barnard-White Middle School",
           "Union City",
           "CA"
          ],
          [
           "E O Green Junior High School",
           "Oxnard",
           "CA"
          ],
          [
           "Roosevelt High School",
           "Fresno",
           "CA"
          ],
          [
           "Lakota Middle School",
           "Federal Way",
           "WA"
          ],
          [
           "Central High School",
           "Knoxville",
           "TN"
          ],
          [
           "Henry Ford High School",
           "Detroit",
           "MI"
          ],
          [
           "Bell High School",
           "Bell",
           "CA"
          ],
          [
           "Dillard High School",
           "Fort Lauderdale",
           "FL"
          ],
          [
           "Thompson Valley High School",
           "Loveland",
           "CO"
          ],
          [
           "Desert Hills High School",
           "St. George",
           "UT"
          ],
          [
           "King City High School",
           "King City",
           "CA"
          ],
          [
           "Guy B. Teachey Elementary School",
           "Asheboro",
           "NC"
          ],
          [
           "Cahokia High School",
           "Cahokia",
           "IL"
          ],
          [
           "Carolina Forest High School",
           "Conway",
           "SC"
          ],
          [
           "Wilson High School",
           "Long Beach",
           "CA"
          ],
          [
           "Discovery Middle School",
           "Madison",
           "AL"
          ],
          [
           "Birney Elementary School",
           "Tacoma",
           "WA"
          ],
          [
           "Sullivan Central High School",
           "Blountville",
           "TN"
          ],
          [
           "Alisal High School",
           "Salinas",
           "CA"
          ],
          [
           "Topeka West High School",
           "Topeka",
           "KS"
          ],
          [
           "Millard South High School",
           "Omaha",
           "NE"
          ],
          [
           "Halls High School",
           "Knoxville",
           "TN"
          ],
          [
           "Weston High School",
           "Cazenovia",
           "WI"
          ],
          [
           "Platte Canyon High School",
           "Bailey",
           "CO"
          ],
          [
           "Essex Elementary School",
           "Essex Junction",
           "VT"
          ],
          [
           "Anacostia High School",
           "Washington",
           "DC"
          ],
          [
           "Hightower High School",
           "Sugarland",
           "TX"
          ],
          [
           "Abess Park Elementary School",
           "East Arlington",
           "FL"
          ],
          [
           "Fay Galloway Elementary School",
           "Henderson",
           "NV"
          ],
          [
           "Ballou Senior High School",
           "Washington",
           "DC"
          ],
          [
           "T M Peirce Elementary School",
           "Philadelphia",
           "PA"
          ],
          [
           "Gathway Christian Academy",
           "St. Martinville",
           "LA"
          ],
          [
           "West High School",
           "Salt Lake City",
           "UT"
          ],
          [
           "Proviso East High School",
           "Maywood",
           "IL"
          ],
          [
           "Tyrrell Elementary School",
           "Hayward",
           "CA"
          ],
          [
           "Murrell Dobbins Vocational-Technical High School",
           "North Philadelphia",
           "PA"
          ],
          [
           "Stewart County High School (bus)",
           "Dover",
           "TN"
          ],
          [
           "Louisiana Schnell Elementary School",
           "Placerville",
           "CA"
          ],
          [
           "Carrick High School",
           "Pittsburgh",
           "PA"
          ],
          [
           "Highland Elementary School",
           "Lower Allen Township",
           "PA"
          ],
          [
           "Planatation Elementary School",
           "Bakersfield",
           "CA"
          ],
          [
           "Birney Elementary School",
           "Fresno",
           "CA"
          ],
          [
           "Campbell County High School",
           "Jacksboro, TN",
           "TN"
          ],
          [
           "Irving Middle School",
           "San Antonio",
           "TX"
          ],
          [
           "Santiago High School",
           "Garden Grove",
           "CA"
          ],
          [
           "Parkway Academy",
           "Miramar",
           "FL"
          ],
          [
           "Venice High School",
           "Los Angeles",
           "CA"
          ],
          [
           "Wirt High School",
           "Gary",
           "IN"
          ],
          [
           "Young Middle Magnet School",
           "Tampa",
           "FL"
          ],
          [
           "Mendez Middle School",
           "Austin",
           "TX"
          ],
          [
           "South High School",
           "Youngstown",
           "OH"
          ],
          [
           "Locke High School",
           "Los Angeles",
           "CA"
          ],
          [
           "Worthing High School",
           "Houston",
           "TX"
          ],
          [
           "Hine Junior High School",
           "Washington",
           "DC"
          ],
          [
           "Episcopal School of Jacksonville",
           "Jacksonville",
           "FL"
          ],
          [
           "Arapahoe High School",
           "Centennial",
           "CO"
          ],
          [
           "Raytown Success Academy",
           "Raytown",
           "MI"
          ],
          [
           "Academy of Knowledge Preschool",
           "Miami",
           "FL"
          ],
          [
           "East English Village Preparatory Academy",
           "Detroit",
           "MI"
          ],
          [
           "St. Mary Catholic School",
           "Griffith",
           "IN"
          ],
          [
           "Clarke Street Elementary School",
           "Milwaukee",
           "WI"
          ],
          [
           "Kelly High School",
           "Benton",
           "MO"
          ],
          [
           "Langston Hughes High School",
           "Fairburn",
           "GA"
          ],
          [
           "Miami Carol City High School",
           "Miami",
           "FL"
          ],
          [
           "Sunnyside Elementary School",
           "Pittsburgh",
           "PA"
          ],
          [
           "Tenaya Middle School",
           "Merced",
           "CA"
          ],
          [
           "Willow Elementary School",
           "Cleveland",
           "OH"
          ],
          [
           "Sarah J. Rawson Elementary School",
           "Hartford",
           "CT"
          ],
          [
           "Elolf Elementary School",
           "Converse",
           "TX"
          ],
          [
           "Ed White Middle School",
           "San Antonio",
           "TX"
          ],
          [
           "Independence High School",
           "Glendale",
           "AZ"
          ],
          [
           "High Point High School",
           "Beltsville",
           "MD"
          ],
          [
           "Jeremiah Burke High School",
           "Dorchester",
           "MA"
          ],
          [
           "Mcnair Elementary School",
           "Chicago",
           "IL"
          ],
          [
           "Townville Elementary School",
           "Townville",
           "SC"
          ],
          [
           "Thomas G Scullen Middle School",
           "Naperville",
           "IL"
          ],
          [
           "North Park Elementary School",
           "San Bernardino",
           "CA"
          ],
          [
           "Menlo Park Elementary School",
           "Portland",
           "OR"
          ],
          [
           "McMillan Middle School",
           "Omaha",
           "NE"
          ],
          [
           "Freeman High School",
           "Rockford",
           "WA"
          ],
          [
           "Sparks Middle School",
           "Sparks",
           "NV"
          ],
          [
           "North Panola High School",
           "Sardis",
           "MS"
          ],
          [
           "Reynolds High School",
           "Troutdale",
           "OR"
          ],
          [
           "Martin Luther King High School",
           "Detroit",
           "MI"
          ],
          [
           "Northwest High School",
           "Clarksville",
           "TN"
          ],
          [
           "West View High School",
           "Avondale",
           "AZ"
          ],
          [
           "Dale County School Bus",
           "Midland City",
           "AL"
          ],
          [
           "Mary Scroggs Elementary School",
           "Chapel Hill",
           "NC"
          ],
          [
           "Nathaniel Greene Elementary School",
           "Pawtucket",
           "RI"
          ],
          [
           "Banner Academy South",
           "Chicago",
           "IL"
          ],
          [
           "Hillside Elementary School",
           "San Leandro",
           "CA"
          ],
          [
           "Apostolic Revival Center Christian School",
           "Fort Myers",
           "FL"
          ],
          [
           "Pyburn Elementary School",
           "Houston",
           "TX"
          ],
          [
           "Oakland Elementary School",
           "Greenwood",
           "SC"
          ],
          [
           "East Carter High School",
           "Grayson",
           "KY"
          ],
          [
           "James Madison Junior High School",
           "Oakland",
           "CA"
          ],
          [
           "Lawton Chiles Middle School",
           "Miramar",
           "FL"
          ],
          [
           "Richland High School",
           "Lynnville",
           "TN"
          ],
          [
           "49th Street Elementary School",
           "Los Angeles",
           "CA"
          ],
          [
           "Olathe North High School",
           "Olathe",
           "KS"
          ],
          [
           "Beach High School",
           "Savannah",
           "GA"
          ],
          [
           "Thomas Jefferson High School",
           "Brooklyn",
           "NY"
          ],
          [
           "Santana High School",
           "Santee",
           "CA"
          ],
          [
           "Spanaway Junior High School",
           "Spanaway",
           "WA"
          ],
          [
           "Aztec High School",
           "Aztec",
           "NM"
          ],
          [
           "Edna Karr High School",
           "Algiers",
           "LA"
          ],
          [
           "Rocori High School",
           "Cold Spring",
           "MN"
          ],
          [
           "Weequahic High School",
           "Newark",
           "NJ"
          ],
          [
           "Washington Middle School",
           "Pasadena",
           "CA"
          ],
          [
           "Marshall County High School",
           "Benton",
           "KY"
          ],
          [
           "Weatherless Elementary School",
           "Washington",
           "DC"
          ],
          [
           "Bethel Regional High School",
           "Bethel",
           "AK"
          ],
          [
           "Capeville Elementary School",
           "Capeville",
           "VA"
          ],
          [
           "Smedley Elementary School",
           "Philadelphia",
           "PA"
          ],
          [
           "Alexander W. Dreyfoos School of the Arts",
           "West Palm Beach",
           "FL"
          ],
          [
           "Saugus High School",
           "Santa Clarita",
           "CA"
          ],
          [
           "Grover Cleveland Elementary School",
           "San Diego",
           "CA"
          ],
          [
           "Pearl High School",
           "Pearl",
           "MS"
          ],
          [
           "Jack Swigert Aerospace Academy ",
           "Colorado Springs",
           "CO"
          ],
          [
           "Thurston High School",
           "Springfield",
           "OR"
          ],
          [
           "Ridgewood High School",
           "Norridge",
           "IL"
          ],
          [
           "Roosevelt High School",
           "Minneapolis",
           "MN"
          ],
          [
           "Kemper Military School and College",
           "Boonville",
           "MO"
          ],
          [
           "Searles Elementary School",
           "Union City",
           "CA"
          ],
          [
           "Saunders Elementary School",
           "Newport News",
           "VA"
          ],
          [
           "Beaumont High School (bus)",
           "St. Louis",
           "MO"
          ],
          [
           "Chardon High School",
           "Chardon",
           "OH"
          ],
          [
           "Heath High School",
           "West Paducah",
           "KY"
          ],
          [
           "Frontier Middle School",
           "Moses Lake",
           "WA"
          ],
          [
           "Olean High School",
           "Olean",
           "NY"
          ],
          [
           "Golden West High School",
           "Visalia",
           "CA"
          ],
          [
           "Mount Vernon Elementary School",
           "Newark",
           "NJ"
          ],
          [
           "Oxford High School",
           "Oxford",
           "MI"
          ],
          [
           "Marysville Pilchuck High School",
           "Marysville",
           "WA"
          ],
          [
           "Lindhurst High School",
           "Olivehurst",
           "CA"
          ],
          [
           "Moses Montefoire Public School",
           "Chicago",
           "IL"
          ],
          [
           "Westside Middle School",
           "Jonesboro",
           "AR"
          ],
          [
           "Cleveland Elementary School",
           "Stockton",
           "CA"
          ],
          [
           "West Nickel Mines School",
           "Nickel Mines",
           "PA"
          ],
          [
           "Red Lake Senior High School",
           "Red Lake",
           "MN"
          ],
          [
           "Santa Fe High School",
           "Santa Fe",
           "TX"
          ],
          [
           "Columbine High School",
           "Littleton",
           "CO"
          ],
          [
           "Marjory Stoneman Douglas High School",
           "Parkland",
           "FL"
          ],
          [
           "Robb Elementary School",
           "Uvalde",
           "TX"
          ],
          [
           "Sandy Hook Elementary School",
           "Newtown",
           "CT"
          ]
         ],
         "hovertemplate": "<b>School: %{customdata[0]}</b><br><b>Deaths: %{y}</b><br><b>Location: %{customdata[1]}, %{customdata[2]}</b><br> <extra></extra>",
         "marker": {
          "color": [
           "lightpink",
           "lightpink",
           "lightpink",
           "lightpink",
           "lightpink",
           "lightpink",
           "lightpink",
           "lightpink",
           "lightpink",
           "lightpink",
           "lightpink",
           "lightpink",
           "lightpink",
           "lightpink",
           "lightpink",
           "lightpink",
           "lightpink",
           "lightpink",
           "lightpink",
           "lightpink",
           "lightpink",
           "lightpink",
           "lightpink",
           "lightpink",
           "lightpink",
           "lightpink",
           "lightpink",
           "lightpink",
           "lightpink",
           "lightpink",
           "lightpink",
           "lightpink",
           "lightpink",
           "lightpink",
           "lightpink",
           "lightpink",
           "lightpink",
           "lightpink",
           "lightpink",
           "lightpink",
           "lightpink",
           "lightpink",
           "lightpink",
           "lightpink",
           "lightpink",
           "lightpink",
           "lightpink",
           "lightpink",
           "lightpink",
           "lightpink",
           "lightpink",
           "lightpink",
           "lightpink",
           "lightpink",
           "lightpink",
           "lightpink",
           "lightpink",
           "lightpink",
           "lightpink",
           "lightpink",
           "lightpink",
           "lightpink",
           "lightpink",
           "lightpink",
           "lightpink",
           "lightpink",
           "lightpink",
           "lightpink",
           "lightpink",
           "lightpink",
           "lightpink",
           "lightpink",
           "lightpink",
           "lightpink",
           "lightpink",
           "lightpink",
           "lightpink",
           "lightpink",
           "lightpink",
           "lightpink",
           "lightpink",
           "lightpink",
           "lightpink",
           "lightpink",
           "lightpink",
           "lightpink",
           "lightpink",
           "lightpink",
           "lightpink",
           "lightpink",
           "lightpink",
           "lightpink",
           "lightpink",
           "lightpink",
           "lightpink",
           "lightpink",
           "lightpink",
           "lightpink",
           "lightpink",
           "lightpink",
           "lightpink",
           "lightpink",
           "lightpink",
           "lightpink",
           "lightpink",
           "lightpink",
           "lightpink",
           "lightpink",
           "lightpink",
           "lightpink",
           "lightpink",
           "lightpink",
           "lightpink",
           "lightpink",
           "lightpink",
           "lightpink",
           "lightpink",
           "lightpink",
           "lightpink",
           "lightpink",
           "lightpink",
           "lightpink",
           "lightpink",
           "lightpink",
           "lightpink",
           "lightpink",
           "lightpink",
           "lightpink",
           "lightpink",
           "lightpink",
           "lightpink",
           "lightpink",
           "lightpink",
           "lightpink",
           "lightpink",
           "lightpink",
           "lightpink",
           "lightpink",
           "lightpink",
           "lightpink",
           "lightpink",
           "lightpink",
           "lightpink",
           "lightpink",
           "lightpink",
           "lightpink",
           "lightpink",
           "lightpink",
           "lightpink",
           "lightpink",
           "lightpink",
           "lightpink",
           "lightpink",
           "lightpink",
           "lightpink",
           "lightpink",
           "lightpink",
           "lightpink",
           "lightpink",
           "lightpink",
           "lightpink",
           "lightpink",
           "lightpink",
           "lightpink",
           "lightpink",
           "lightpink",
           "lightpink",
           "lightpink",
           "lightpink",
           "lightpink",
           "lightpink",
           "lightpink",
           "lightpink",
           "lightpink",
           "lightpink",
           "lightpink",
           "lightpink",
           "lightpink",
           "lightpink",
           "lightpink",
           "lightpink",
           "lightpink",
           "lightpink",
           "lightpink",
           "lightpink",
           "lightpink",
           "lightpink",
           "lightpink",
           "lightpink",
           "lightpink",
           "lightpink",
           "lightpink",
           "lightpink",
           "lightpink",
           "lightpink",
           "lightpink",
           "lightpink",
           "lightpink",
           "lightpink",
           "lightpink",
           "lightpink",
           "lightpink",
           "lightpink",
           "lightpink",
           "lightpink",
           "lightpink",
           "lightpink",
           "lightpink",
           "lightpink",
           "lightpink",
           "lightpink",
           "lightpink",
           "lightpink",
           "lightpink",
           "lightpink",
           "lightpink",
           "lightpink",
           "lightpink",
           "lightpink",
           "lightpink",
           "lightpink",
           "lightpink",
           "lightpink",
           "lightpink",
           "lightpink",
           "lightpink",
           "lightpink",
           "lightpink",
           "lightpink",
           "lightpink",
           "lightpink",
           "lightpink",
           "lightpink",
           "lightpink",
           "lightpink",
           "lightpink",
           "lightpink",
           "lightpink",
           "lightpink",
           "lightpink",
           "lightpink",
           "lightpink",
           "lightpink",
           "lightpink",
           "lightpink",
           "lightpink",
           "lightpink",
           "lightpink",
           "lightpink",
           "lightpink",
           "lightpink",
           "lightpink",
           "lightpink",
           "lightpink",
           "lightpink",
           "lightpink",
           "lightpink",
           "lightpink",
           "lightpink",
           "lightpink",
           "lightpink",
           "lightpink",
           "lightpink",
           "lightpink",
           "lightpink",
           "lightpink",
           "lightpink",
           "lightpink",
           "lightpink",
           "lightpink",
           "lightpink",
           "lightpink",
           "lightpink",
           "lightpink",
           "lightpink",
           "lightpink",
           "lightpink",
           "lightpink",
           "lightpink",
           "lightpink",
           "lightpink",
           "lightpink",
           "lightpink",
           "lightpink",
           "lightpink",
           "lightpink",
           "lightpink",
           "lightpink",
           "lightpink",
           "lightpink",
           "lightpink",
           "lightpink",
           "lightpink",
           "lightpink",
           "lightpink",
           "lightpink",
           "lightpink",
           "lightpink",
           "lightpink",
           "lightpink",
           "lightpink",
           "lightpink",
           "lightpink",
           "lightpink",
           "lightpink",
           "lightpink",
           "lightpink",
           "lightpink",
           "lightpink",
           "lightpink",
           "lightpink",
           "lightpink",
           "lightpink",
           "lightpink",
           "lightpink",
           "lightpink",
           "lightpink",
           "lightpink",
           "lightpink",
           "lightpink",
           "lightpink",
           "lightpink",
           "lightpink",
           "lightpink",
           "lightpink",
           "lightpink",
           "lightpink",
           "lightpink",
           "lightpink",
           "lightpink",
           "lightpink",
           "lightpink",
           "lightpink",
           "lightpink",
           "lightpink",
           "lightpink",
           "lightpink",
           "lightpink",
           "lightpink",
           "lightpink",
           "lightpink",
           "lightpink",
           "lightpink",
           "lightpink",
           "lightpink",
           "lightpink",
           "lightpink",
           "lightpink",
           "lightpink",
           "lightpink",
           "lightpink",
           "lightpink",
           "lightpink",
           "lightpink",
           "lightpink",
           "lightpink",
           "lightpink",
           "lightpink",
           "lightpink",
           "lightpink",
           "lightpink",
           "lightpink",
           "lightpink",
           "lightpink",
           "lightpink",
           "lightpink",
           "lightpink",
           "lightpink",
           "lightpink",
           "lightpink",
           "lightpink",
           "lightpink",
           "lightpink",
           "lightpink",
           "lightpink",
           "lightpink",
           "lightpink",
           "lightpink",
           "lightpink",
           "lightpink",
           "lightpink",
           "lightpink",
           "lightpink",
           "lightpink",
           "lightpink",
           "lightpink",
           "lightpink",
           "lightpink",
           "lightpink",
           "lightpink",
           "lightpink",
           "lightpink",
           "lightpink",
           "lightpink",
           "lightpink",
           "lightpink",
           "lightpink",
           "lightpink",
           "lightpink",
           "lightpink",
           "lightpink",
           "lightpink",
           "lightpink",
           "lightpink",
           "lightpink",
           "lightpink",
           "lightpink",
           "lightpink",
           "lightpink",
           "lightpink",
           "lightpink",
           "lightpink",
           "lightpink",
           "lightpink",
           "lightpink",
           "lightpink",
           "lightpink",
           "lightpink",
           "lightpink",
           "lightpink",
           "lightpink",
           "lightpink",
           "lightpink",
           "lightpink",
           "lightpink",
           "lightpink",
           "lightpink",
           "lightpink",
           "lightpink",
           "lightpink",
           "lightpink",
           "lightpink",
           "lightpink",
           "lightpink",
           "lightpink",
           "lightpink",
           "lightpink",
           "lightpink",
           "lightpink",
           "lightpink",
           "lightpink",
           "lightpink",
           "lightpink",
           "lightpink",
           "lightpink",
           "lightpink",
           "lightpink",
           "lightpink",
           "lightpink",
           "lightpink",
           "lightpink",
           "lightpink",
           "lightpink",
           "lightpink",
           "lightpink",
           "lightpink",
           "lightpink",
           "lightpink",
           "lightpink",
           "lightpink",
           "lightpink",
           "lightpink",
           "lightpink",
           "lightpink",
           "lightpink",
           "lightpink",
           "lightpink",
           "lightpink",
           "lightpink",
           "lightpink",
           "lightpink",
           "lightpink",
           "lightpink",
           "lightpink",
           "lightpink",
           "red",
           "lightpink",
           "lightpink",
           "red",
           "red",
           "red",
           "red",
           "lightpink",
           "red",
           "red",
           "red",
           "red",
           "red",
           "lightpink",
           "lightpink",
           "lightpink",
           "red",
           "lightpink",
           "red",
           "lightpink",
           "red",
           "red",
           "red",
           "lightpink",
           "red",
           "lightpink",
           "red",
           "lightpink",
           "red",
           "red",
           "lightpink",
           "lightpink",
           "lightpink",
           "red",
           "red",
           "red",
           "red",
           "red",
           "red",
           "red",
           "red",
           "red",
           "red",
           "red",
           "red",
           "red",
           "lightpink",
           "red",
           "red",
           "red",
           "red"
          ]
         },
         "type": "bar",
         "x": [
          2022,
          1993,
          1993,
          1993,
          1993,
          1993,
          1993,
          1993,
          1993,
          1993,
          1993,
          1994,
          1994,
          1994,
          1994,
          1994,
          1994,
          1994,
          1994,
          1994,
          1994,
          1994,
          1994,
          1994,
          1994,
          1994,
          1994,
          1994,
          1993,
          1995,
          1993,
          1993,
          1992,
          1992,
          1992,
          1992,
          1992,
          1992,
          1992,
          1992,
          1992,
          1992,
          1993,
          1993,
          1993,
          1993,
          1993,
          1993,
          1993,
          1993,
          1993,
          1993,
          1993,
          1993,
          1993,
          1993,
          1993,
          1993,
          1993,
          1993,
          1992,
          1995,
          1995,
          1998,
          1998,
          1998,
          1998,
          1999,
          1999,
          1999,
          1999,
          1999,
          2000,
          2000,
          2000,
          2000,
          2000,
          2000,
          1970,
          2000,
          2000,
          2001,
          2001,
          2001,
          2001,
          2001,
          2002,
          2002,
          2002,
          2002,
          1998,
          1995,
          1998,
          1998,
          1995,
          1995,
          1995,
          1995,
          1996,
          1996,
          1996,
          1996,
          1996,
          1996,
          1996,
          1996,
          1996,
          1996,
          1996,
          1997,
          1997,
          1997,
          1997,
          1997,
          1997,
          1997,
          1997,
          1997,
          1997,
          1997,
          1997,
          1998,
          1992,
          1991,
          1991,
          1975,
          1975,
          1975,
          1976,
          1976,
          1976,
          1977,
          1977,
          1977,
          1977,
          1978,
          1978,
          1978,
          1978,
          1978,
          1978,
          1979,
          1979,
          1980,
          1980,
          1980,
          1980,
          1980,
          1981,
          1981,
          1981,
          1981,
          1975,
          1981,
          1975,
          1974,
          1970,
          1970,
          1970,
          1970,
          1970,
          1970,
          1971,
          1971,
          1971,
          1971,
          1971,
          1971,
          1971,
          1972,
          1972,
          1972,
          1972,
          1973,
          1973,
          1973,
          1973,
          1973,
          1974,
          1974,
          1974,
          1974,
          1974,
          1974,
          1982,
          1982,
          1982,
          1988,
          1988,
          1988,
          1988,
          1988,
          1988,
          1989,
          1989,
          1989,
          1989,
          1989,
          1990,
          1990,
          1990,
          1990,
          1990,
          1991,
          1991,
          1991,
          1991,
          1991,
          1991,
          1991,
          1991,
          1991,
          1991,
          1991,
          1987,
          1987,
          1987,
          1987,
          1982,
          1982,
          1983,
          1983,
          1983,
          1983,
          1983,
          1983,
          1983,
          1983,
          1983,
          1984,
          1984,
          2003,
          1984,
          1985,
          1985,
          1985,
          1986,
          1986,
          1986,
          1986,
          1986,
          1986,
          1986,
          1986,
          1987,
          1987,
          1984,
          2003,
          2000,
          2003,
          2019,
          2019,
          2019,
          2019,
          2019,
          2019,
          2020,
          2020,
          2020,
          2020,
          2020,
          2020,
          2020,
          2020,
          2020,
          2020,
          2020,
          2020,
          2020,
          2020,
          2020,
          2020,
          2020,
          2020,
          2020,
          2020,
          2020,
          2019,
          2019,
          2019,
          2019,
          2018,
          2018,
          2018,
          2018,
          2018,
          2018,
          2003,
          2018,
          2018,
          2018,
          2018,
          2018,
          2018,
          2020,
          2018,
          2018,
          2018,
          2018,
          2018,
          2018,
          2019,
          2019,
          2019,
          2019,
          2019,
          2019,
          2019,
          2019,
          2018,
          2021,
          2021,
          2021,
          2021,
          2022,
          2022,
          2022,
          2022,
          2022,
          2022,
          2022,
          2022,
          2022,
          2022,
          2022,
          2022,
          2021,
          2022,
          2022,
          2022,
          2022,
          2022,
          2022,
          2022,
          2022,
          2022,
          2022,
          2022,
          2022,
          2022,
          2022,
          2022,
          2018,
          2021,
          2021,
          2021,
          2021,
          2021,
          2021,
          2021,
          2021,
          2021,
          2021,
          2021,
          2021,
          2021,
          2021,
          2021,
          2021,
          2021,
          2021,
          2021,
          2021,
          2021,
          2021,
          2021,
          2021,
          2021,
          2021,
          2021,
          2021,
          2021,
          2021,
          2021,
          2018,
          2018,
          2009,
          2006,
          2006,
          2006,
          2007,
          2007,
          2008,
          2008,
          2008,
          2008,
          2008,
          2008,
          2008,
          2008,
          2008,
          2008,
          2008,
          2009,
          2009,
          2009,
          2010,
          2010,
          2010,
          2010,
          2010,
          2011,
          2006,
          2006,
          2006,
          2006,
          2003,
          2003,
          2003,
          2004,
          2004,
          2004,
          2004,
          2004,
          2004,
          2004,
          2005,
          2005,
          2011,
          2005,
          2005,
          2005,
          2005,
          2005,
          2005,
          2005,
          2006,
          2006,
          2006,
          2006,
          2006,
          2006,
          2005,
          2011,
          1970,
          2012,
          2013,
          2014,
          2014,
          2014,
          2014,
          2014,
          2014,
          2014,
          2014,
          2014,
          2015,
          2015,
          2015,
          2015,
          2015,
          2016,
          2016,
          2016,
          2016,
          2016,
          2017,
          2017,
          2017,
          2017,
          2017,
          2013,
          2013,
          2014,
          2013,
          2013,
          2012,
          2013,
          2012,
          2012,
          2012,
          2013,
          2013,
          2022,
          1988,
          1993,
          1974,
          2020,
          1995,
          1984,
          1995,
          2000,
          1992,
          2001,
          1985,
          2017,
          2017,
          2003,
          2005,
          1998,
          2018,
          1993,
          1997,
          1980,
          1996,
          2013,
          2019,
          1979,
          1997,
          2019,
          1998,
          1978,
          2021,
          1994,
          2019,
          2014,
          1996,
          2012,
          1997,
          1996,
          1974,
          2020,
          2007,
          2021,
          2014,
          1992,
          1988,
          1998,
          1989,
          2006,
          2005,
          2018,
          1999,
          2018,
          2022,
          2012
         ],
         "y": [
          1,
          1,
          1,
          1,
          1,
          1,
          1,
          1,
          1,
          1,
          1,
          1,
          1,
          1,
          1,
          1,
          1,
          1,
          1,
          1,
          1,
          1,
          1,
          1,
          1,
          1,
          1,
          1,
          1,
          1,
          1,
          1,
          1,
          1,
          1,
          1,
          1,
          1,
          1,
          1,
          1,
          1,
          1,
          1,
          1,
          1,
          1,
          1,
          1,
          1,
          1,
          1,
          1,
          1,
          1,
          1,
          1,
          1,
          1,
          1,
          1,
          1,
          1,
          1,
          1,
          1,
          1,
          1,
          1,
          1,
          1,
          1,
          1,
          1,
          1,
          1,
          1,
          1,
          1,
          1,
          1,
          1,
          1,
          1,
          1,
          1,
          1,
          1,
          1,
          1,
          1,
          1,
          1,
          1,
          1,
          1,
          1,
          1,
          1,
          1,
          1,
          1,
          1,
          1,
          1,
          1,
          1,
          1,
          1,
          1,
          1,
          1,
          1,
          1,
          1,
          1,
          1,
          1,
          1,
          1,
          1,
          1,
          1,
          1,
          1,
          1,
          1,
          1,
          1,
          1,
          1,
          1,
          1,
          1,
          1,
          1,
          1,
          1,
          1,
          1,
          1,
          1,
          1,
          1,
          1,
          1,
          1,
          1,
          1,
          1,
          1,
          1,
          1,
          1,
          1,
          1,
          1,
          1,
          1,
          1,
          1,
          1,
          1,
          1,
          1,
          1,
          1,
          1,
          1,
          1,
          1,
          1,
          1,
          1,
          1,
          1,
          1,
          1,
          1,
          1,
          1,
          1,
          1,
          1,
          1,
          1,
          1,
          1,
          1,
          1,
          1,
          1,
          1,
          1,
          1,
          1,
          1,
          1,
          1,
          1,
          1,
          1,
          1,
          1,
          1,
          1,
          1,
          1,
          1,
          1,
          1,
          1,
          1,
          1,
          1,
          1,
          1,
          1,
          1,
          1,
          1,
          1,
          1,
          1,
          1,
          1,
          1,
          1,
          1,
          1,
          1,
          1,
          1,
          1,
          1,
          1,
          1,
          1,
          1,
          1,
          1,
          1,
          1,
          1,
          1,
          1,
          1,
          1,
          1,
          1,
          1,
          1,
          1,
          1,
          1,
          1,
          1,
          1,
          1,
          1,
          1,
          1,
          1,
          1,
          1,
          1,
          1,
          1,
          1,
          1,
          1,
          1,
          1,
          1,
          1,
          1,
          1,
          1,
          1,
          1,
          1,
          1,
          1,
          1,
          1,
          1,
          1,
          1,
          1,
          1,
          1,
          1,
          1,
          1,
          1,
          1,
          1,
          1,
          1,
          1,
          1,
          1,
          1,
          1,
          1,
          1,
          1,
          1,
          1,
          1,
          1,
          1,
          1,
          1,
          1,
          1,
          1,
          1,
          1,
          1,
          1,
          1,
          1,
          1,
          1,
          1,
          1,
          1,
          1,
          1,
          1,
          1,
          1,
          1,
          1,
          1,
          1,
          1,
          1,
          1,
          1,
          1,
          1,
          1,
          1,
          1,
          1,
          1,
          1,
          1,
          1,
          1,
          1,
          1,
          1,
          1,
          1,
          1,
          1,
          1,
          1,
          1,
          1,
          1,
          1,
          1,
          1,
          1,
          1,
          1,
          1,
          1,
          1,
          1,
          1,
          1,
          1,
          1,
          1,
          1,
          1,
          1,
          1,
          1,
          1,
          1,
          1,
          1,
          1,
          1,
          1,
          1,
          1,
          1,
          1,
          1,
          1,
          1,
          1,
          1,
          1,
          1,
          1,
          1,
          1,
          1,
          1,
          1,
          1,
          1,
          1,
          1,
          1,
          1,
          1,
          1,
          1,
          1,
          1,
          1,
          1,
          1,
          1,
          1,
          1,
          1,
          1,
          1,
          1,
          1,
          1,
          1,
          1,
          1,
          1,
          1,
          1,
          1,
          1,
          1,
          1,
          1,
          1,
          1,
          1,
          1,
          1,
          1,
          1,
          1,
          1,
          1,
          1,
          1,
          1,
          1,
          1,
          1,
          1,
          1,
          1,
          1,
          1,
          1,
          1,
          1,
          1,
          1,
          1,
          1,
          1,
          1,
          1,
          2,
          2,
          2,
          2,
          2,
          2,
          2,
          2,
          2,
          2,
          2,
          2,
          2,
          2,
          2,
          2,
          2,
          2,
          2,
          2,
          2,
          2,
          2,
          2,
          2,
          2,
          2,
          2,
          2,
          2,
          2,
          2,
          2,
          2,
          3,
          3,
          3,
          3,
          3,
          3,
          4,
          4,
          4,
          4,
          5,
          5,
          5,
          8,
          10,
          13,
          17,
          20,
          26
         ]
        }
       ],
       "layout": {
        "annotations": [
         {
          "arrowhead": 1,
          "showarrow": true,
          "text": "26 Killed at Sandy Hook <br> Elementary School",
          "x": "2012",
          "y": 26,
          "yshift": 50
         }
        ],
        "hoverlabel": {
         "bgcolor": "lightgray",
         "font": {
          "color": "Black"
         }
        },
        "plot_bgcolor": "white",
        "template": {
         "data": {
          "bar": [
           {
            "error_x": {
             "color": "#2a3f5f"
            },
            "error_y": {
             "color": "#2a3f5f"
            },
            "marker": {
             "line": {
              "color": "#E5ECF6",
              "width": 0.5
             },
             "pattern": {
              "fillmode": "overlay",
              "size": 10,
              "solidity": 0.2
             }
            },
            "type": "bar"
           }
          ],
          "barpolar": [
           {
            "marker": {
             "line": {
              "color": "#E5ECF6",
              "width": 0.5
             },
             "pattern": {
              "fillmode": "overlay",
              "size": 10,
              "solidity": 0.2
             }
            },
            "type": "barpolar"
           }
          ],
          "carpet": [
           {
            "aaxis": {
             "endlinecolor": "#2a3f5f",
             "gridcolor": "white",
             "linecolor": "white",
             "minorgridcolor": "white",
             "startlinecolor": "#2a3f5f"
            },
            "baxis": {
             "endlinecolor": "#2a3f5f",
             "gridcolor": "white",
             "linecolor": "white",
             "minorgridcolor": "white",
             "startlinecolor": "#2a3f5f"
            },
            "type": "carpet"
           }
          ],
          "choropleth": [
           {
            "colorbar": {
             "outlinewidth": 0,
             "ticks": ""
            },
            "type": "choropleth"
           }
          ],
          "contour": [
           {
            "colorbar": {
             "outlinewidth": 0,
             "ticks": ""
            },
            "colorscale": [
             [
              0,
              "#0d0887"
             ],
             [
              0.1111111111111111,
              "#46039f"
             ],
             [
              0.2222222222222222,
              "#7201a8"
             ],
             [
              0.3333333333333333,
              "#9c179e"
             ],
             [
              0.4444444444444444,
              "#bd3786"
             ],
             [
              0.5555555555555556,
              "#d8576b"
             ],
             [
              0.6666666666666666,
              "#ed7953"
             ],
             [
              0.7777777777777778,
              "#fb9f3a"
             ],
             [
              0.8888888888888888,
              "#fdca26"
             ],
             [
              1,
              "#f0f921"
             ]
            ],
            "type": "contour"
           }
          ],
          "contourcarpet": [
           {
            "colorbar": {
             "outlinewidth": 0,
             "ticks": ""
            },
            "type": "contourcarpet"
           }
          ],
          "heatmap": [
           {
            "colorbar": {
             "outlinewidth": 0,
             "ticks": ""
            },
            "colorscale": [
             [
              0,
              "#0d0887"
             ],
             [
              0.1111111111111111,
              "#46039f"
             ],
             [
              0.2222222222222222,
              "#7201a8"
             ],
             [
              0.3333333333333333,
              "#9c179e"
             ],
             [
              0.4444444444444444,
              "#bd3786"
             ],
             [
              0.5555555555555556,
              "#d8576b"
             ],
             [
              0.6666666666666666,
              "#ed7953"
             ],
             [
              0.7777777777777778,
              "#fb9f3a"
             ],
             [
              0.8888888888888888,
              "#fdca26"
             ],
             [
              1,
              "#f0f921"
             ]
            ],
            "type": "heatmap"
           }
          ],
          "heatmapgl": [
           {
            "colorbar": {
             "outlinewidth": 0,
             "ticks": ""
            },
            "colorscale": [
             [
              0,
              "#0d0887"
             ],
             [
              0.1111111111111111,
              "#46039f"
             ],
             [
              0.2222222222222222,
              "#7201a8"
             ],
             [
              0.3333333333333333,
              "#9c179e"
             ],
             [
              0.4444444444444444,
              "#bd3786"
             ],
             [
              0.5555555555555556,
              "#d8576b"
             ],
             [
              0.6666666666666666,
              "#ed7953"
             ],
             [
              0.7777777777777778,
              "#fb9f3a"
             ],
             [
              0.8888888888888888,
              "#fdca26"
             ],
             [
              1,
              "#f0f921"
             ]
            ],
            "type": "heatmapgl"
           }
          ],
          "histogram": [
           {
            "marker": {
             "pattern": {
              "fillmode": "overlay",
              "size": 10,
              "solidity": 0.2
             }
            },
            "type": "histogram"
           }
          ],
          "histogram2d": [
           {
            "colorbar": {
             "outlinewidth": 0,
             "ticks": ""
            },
            "colorscale": [
             [
              0,
              "#0d0887"
             ],
             [
              0.1111111111111111,
              "#46039f"
             ],
             [
              0.2222222222222222,
              "#7201a8"
             ],
             [
              0.3333333333333333,
              "#9c179e"
             ],
             [
              0.4444444444444444,
              "#bd3786"
             ],
             [
              0.5555555555555556,
              "#d8576b"
             ],
             [
              0.6666666666666666,
              "#ed7953"
             ],
             [
              0.7777777777777778,
              "#fb9f3a"
             ],
             [
              0.8888888888888888,
              "#fdca26"
             ],
             [
              1,
              "#f0f921"
             ]
            ],
            "type": "histogram2d"
           }
          ],
          "histogram2dcontour": [
           {
            "colorbar": {
             "outlinewidth": 0,
             "ticks": ""
            },
            "colorscale": [
             [
              0,
              "#0d0887"
             ],
             [
              0.1111111111111111,
              "#46039f"
             ],
             [
              0.2222222222222222,
              "#7201a8"
             ],
             [
              0.3333333333333333,
              "#9c179e"
             ],
             [
              0.4444444444444444,
              "#bd3786"
             ],
             [
              0.5555555555555556,
              "#d8576b"
             ],
             [
              0.6666666666666666,
              "#ed7953"
             ],
             [
              0.7777777777777778,
              "#fb9f3a"
             ],
             [
              0.8888888888888888,
              "#fdca26"
             ],
             [
              1,
              "#f0f921"
             ]
            ],
            "type": "histogram2dcontour"
           }
          ],
          "mesh3d": [
           {
            "colorbar": {
             "outlinewidth": 0,
             "ticks": ""
            },
            "type": "mesh3d"
           }
          ],
          "parcoords": [
           {
            "line": {
             "colorbar": {
              "outlinewidth": 0,
              "ticks": ""
             }
            },
            "type": "parcoords"
           }
          ],
          "pie": [
           {
            "automargin": true,
            "type": "pie"
           }
          ],
          "scatter": [
           {
            "fillpattern": {
             "fillmode": "overlay",
             "size": 10,
             "solidity": 0.2
            },
            "type": "scatter"
           }
          ],
          "scatter3d": [
           {
            "line": {
             "colorbar": {
              "outlinewidth": 0,
              "ticks": ""
             }
            },
            "marker": {
             "colorbar": {
              "outlinewidth": 0,
              "ticks": ""
             }
            },
            "type": "scatter3d"
           }
          ],
          "scattercarpet": [
           {
            "marker": {
             "colorbar": {
              "outlinewidth": 0,
              "ticks": ""
             }
            },
            "type": "scattercarpet"
           }
          ],
          "scattergeo": [
           {
            "marker": {
             "colorbar": {
              "outlinewidth": 0,
              "ticks": ""
             }
            },
            "type": "scattergeo"
           }
          ],
          "scattergl": [
           {
            "marker": {
             "colorbar": {
              "outlinewidth": 0,
              "ticks": ""
             }
            },
            "type": "scattergl"
           }
          ],
          "scattermapbox": [
           {
            "marker": {
             "colorbar": {
              "outlinewidth": 0,
              "ticks": ""
             }
            },
            "type": "scattermapbox"
           }
          ],
          "scatterpolar": [
           {
            "marker": {
             "colorbar": {
              "outlinewidth": 0,
              "ticks": ""
             }
            },
            "type": "scatterpolar"
           }
          ],
          "scatterpolargl": [
           {
            "marker": {
             "colorbar": {
              "outlinewidth": 0,
              "ticks": ""
             }
            },
            "type": "scatterpolargl"
           }
          ],
          "scatterternary": [
           {
            "marker": {
             "colorbar": {
              "outlinewidth": 0,
              "ticks": ""
             }
            },
            "type": "scatterternary"
           }
          ],
          "surface": [
           {
            "colorbar": {
             "outlinewidth": 0,
             "ticks": ""
            },
            "colorscale": [
             [
              0,
              "#0d0887"
             ],
             [
              0.1111111111111111,
              "#46039f"
             ],
             [
              0.2222222222222222,
              "#7201a8"
             ],
             [
              0.3333333333333333,
              "#9c179e"
             ],
             [
              0.4444444444444444,
              "#bd3786"
             ],
             [
              0.5555555555555556,
              "#d8576b"
             ],
             [
              0.6666666666666666,
              "#ed7953"
             ],
             [
              0.7777777777777778,
              "#fb9f3a"
             ],
             [
              0.8888888888888888,
              "#fdca26"
             ],
             [
              1,
              "#f0f921"
             ]
            ],
            "type": "surface"
           }
          ],
          "table": [
           {
            "cells": {
             "fill": {
              "color": "#EBF0F8"
             },
             "line": {
              "color": "white"
             }
            },
            "header": {
             "fill": {
              "color": "#C8D4E3"
             },
             "line": {
              "color": "white"
             }
            },
            "type": "table"
           }
          ]
         },
         "layout": {
          "annotationdefaults": {
           "arrowcolor": "#2a3f5f",
           "arrowhead": 0,
           "arrowwidth": 1
          },
          "autotypenumbers": "strict",
          "coloraxis": {
           "colorbar": {
            "outlinewidth": 0,
            "ticks": ""
           }
          },
          "colorscale": {
           "diverging": [
            [
             0,
             "#8e0152"
            ],
            [
             0.1,
             "#c51b7d"
            ],
            [
             0.2,
             "#de77ae"
            ],
            [
             0.3,
             "#f1b6da"
            ],
            [
             0.4,
             "#fde0ef"
            ],
            [
             0.5,
             "#f7f7f7"
            ],
            [
             0.6,
             "#e6f5d0"
            ],
            [
             0.7,
             "#b8e186"
            ],
            [
             0.8,
             "#7fbc41"
            ],
            [
             0.9,
             "#4d9221"
            ],
            [
             1,
             "#276419"
            ]
           ],
           "sequential": [
            [
             0,
             "#0d0887"
            ],
            [
             0.1111111111111111,
             "#46039f"
            ],
            [
             0.2222222222222222,
             "#7201a8"
            ],
            [
             0.3333333333333333,
             "#9c179e"
            ],
            [
             0.4444444444444444,
             "#bd3786"
            ],
            [
             0.5555555555555556,
             "#d8576b"
            ],
            [
             0.6666666666666666,
             "#ed7953"
            ],
            [
             0.7777777777777778,
             "#fb9f3a"
            ],
            [
             0.8888888888888888,
             "#fdca26"
            ],
            [
             1,
             "#f0f921"
            ]
           ],
           "sequentialminus": [
            [
             0,
             "#0d0887"
            ],
            [
             0.1111111111111111,
             "#46039f"
            ],
            [
             0.2222222222222222,
             "#7201a8"
            ],
            [
             0.3333333333333333,
             "#9c179e"
            ],
            [
             0.4444444444444444,
             "#bd3786"
            ],
            [
             0.5555555555555556,
             "#d8576b"
            ],
            [
             0.6666666666666666,
             "#ed7953"
            ],
            [
             0.7777777777777778,
             "#fb9f3a"
            ],
            [
             0.8888888888888888,
             "#fdca26"
            ],
            [
             1,
             "#f0f921"
            ]
           ]
          },
          "colorway": [
           "#636efa",
           "#EF553B",
           "#00cc96",
           "#ab63fa",
           "#FFA15A",
           "#19d3f3",
           "#FF6692",
           "#B6E880",
           "#FF97FF",
           "#FECB52"
          ],
          "font": {
           "color": "#2a3f5f"
          },
          "geo": {
           "bgcolor": "white",
           "lakecolor": "white",
           "landcolor": "#E5ECF6",
           "showlakes": true,
           "showland": true,
           "subunitcolor": "white"
          },
          "hoverlabel": {
           "align": "left"
          },
          "hovermode": "closest",
          "mapbox": {
           "style": "light"
          },
          "paper_bgcolor": "white",
          "plot_bgcolor": "#E5ECF6",
          "polar": {
           "angularaxis": {
            "gridcolor": "white",
            "linecolor": "white",
            "ticks": ""
           },
           "bgcolor": "#E5ECF6",
           "radialaxis": {
            "gridcolor": "white",
            "linecolor": "white",
            "ticks": ""
           }
          },
          "scene": {
           "xaxis": {
            "backgroundcolor": "#E5ECF6",
            "gridcolor": "white",
            "gridwidth": 2,
            "linecolor": "white",
            "showbackground": true,
            "ticks": "",
            "zerolinecolor": "white"
           },
           "yaxis": {
            "backgroundcolor": "#E5ECF6",
            "gridcolor": "white",
            "gridwidth": 2,
            "linecolor": "white",
            "showbackground": true,
            "ticks": "",
            "zerolinecolor": "white"
           },
           "zaxis": {
            "backgroundcolor": "#E5ECF6",
            "gridcolor": "white",
            "gridwidth": 2,
            "linecolor": "white",
            "showbackground": true,
            "ticks": "",
            "zerolinecolor": "white"
           }
          },
          "shapedefaults": {
           "line": {
            "color": "#2a3f5f"
           }
          },
          "ternary": {
           "aaxis": {
            "gridcolor": "white",
            "linecolor": "white",
            "ticks": ""
           },
           "baxis": {
            "gridcolor": "white",
            "linecolor": "white",
            "ticks": ""
           },
           "bgcolor": "#E5ECF6",
           "caxis": {
            "gridcolor": "white",
            "linecolor": "white",
            "ticks": ""
           }
          },
          "title": {
           "x": 0.05
          },
          "xaxis": {
           "automargin": true,
           "gridcolor": "white",
           "linecolor": "white",
           "ticks": "",
           "title": {
            "standoff": 15
           },
           "zerolinecolor": "white",
           "zerolinewidth": 2
          },
          "yaxis": {
           "automargin": true,
           "gridcolor": "white",
           "linecolor": "white",
           "ticks": "",
           "title": {
            "standoff": 15
           },
           "zerolinecolor": "white",
           "zerolinewidth": 2
          }
         }
        },
        "title": {
         "text": "Fatalities in School Shootings (1970-2022)"
        },
        "xaxis": {
         "title": {
          "text": "Year"
         }
        },
        "yaxis": {
         "title": {
          "text": "Number of Deaths"
         }
        }
       }
      }
     },
     "metadata": {},
     "output_type": "display_data"
    }
   ],
   "source": [
    "import pandas as pd\n",
    "import plotly.express as px\n",
    "import plotly.graph_objects as go\n",
    "\n",
    "# create a new dataframe that counts the number of deaths per incident\n",
    "# deaths_df = df.groupby([\"School\"]).agg({\"Number Killed\": \"sum\"}).reset_index()\n",
    "\n",
    "df[\"Year\"] = pd.to_datetime(df[\"Date\"]).dt.year\n",
    "df = df.sort_values(\"Number Killed\", ascending=True)\n",
    "max_killed =  df[\"Number Killed\"].max()\n",
    "#df[\"Group\"] = df.groupby(\"Year\")[\"Number Killed\"].apply(lambda x: [\"Highest\" if i == x.max() else \"Other\" for i in x])\n",
    "for year in df[\"Year\"].unique():\n",
    "    year_mask = df[\"Year\"] == year\n",
    "    max_killed = df[year_mask][\"Number Killed\"].max()\n",
    "    df.loc[year_mask, \"Group\"] = [\"Highest\" if x == max_killed else \"Other\" for x in df[year_mask][\"Number Killed\"]]\n",
    "    if df.loc[year_mask, \"Group\"].nunique() == 1:\n",
    "        df.loc[year_mask, \"Group\"] = \"Other\"\n",
    "\n",
    "df[\"marker_color\"] = [\"red\" if g == \"Highest\" else \"lightpink\" for g in df[\"Group\"]]\n",
    "#colors = [\"lightgrey\"] * (len(df) - 1) + [\"red\"]\n",
    "\n",
    "# create the stacked bar chart with hover tooltips\n",
    "fig = go.Figure(go.Bar(x=df[\"Year\"], y=df[\"Number Killed\"], customdata=df[['School', 'City', 'State']].values.tolist(),\n",
    "             hovertemplate=\"<b>School: %{customdata[0]}</b><br><b>Deaths: %{y}</b><br><b>Location: %{customdata[1]}, %{customdata[2]}</b><br> <extra></extra>\", marker_color=df[\"marker_color\"]))\n",
    "fig.update_layout(title=\"Fatalities in School Shootings (1970-2022)\",\n",
    "                  xaxis_title=\"Year\",\n",
    "                  yaxis_title=\"Number of Deaths\",\n",
    "                  hoverlabel=dict(bgcolor='lightgray', font=dict(color='Black')),\n",
    "                  plot_bgcolor='white',\n",
    "                  )\n",
    "fig.add_annotation(x=\"2012\", y=26, text=\"26 Killed at Sandy Hook <br> Elementary School\", showarrow=True, yshift=50, arrowhead=1)\n",
    "fig.show()\n",
    "fig.write_html(\"incidents_binned.html\")\n"
   ]
  }
 ],
 "metadata": {
  "kernelspec": {
   "display_name": "si649",
   "language": "python",
   "name": "python3"
  },
  "language_info": {
   "codemirror_mode": {
    "name": "ipython",
    "version": 3
   },
   "file_extension": ".py",
   "mimetype": "text/x-python",
   "name": "python",
   "nbconvert_exporter": "python",
   "pygments_lexer": "ipython3",
   "version": "3.10.8"
  },
  "orig_nbformat": 4
 },
 "nbformat": 4,
 "nbformat_minor": 2
}
